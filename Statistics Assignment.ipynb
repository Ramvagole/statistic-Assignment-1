{
 "cells": [
  {
   "cell_type": "code",
   "execution_count": null,
   "id": "a24d73ea-0289-433a-99d4-5b15654836d3",
   "metadata": {},
   "outputs": [],
   "source": [
    "#Q1):-There are three central tendancy\n",
    "1. Mean:-\n",
    "Mean is also commonly known as the average, e.g., the average income of the country, the average height of people, etc.\n",
    "The mean is the most commonly used measure of central tendency.\n",
    "\n",
    "2. Median:-\n",
    "Unlike Mean, the Median is not affected by the extreme value into the data.\n",
    "To calculate the Median, you need to put your data in ascending or descending order.\n",
    "The Median is the middle number in the arranged data.\n",
    "\n",
    "3. Mode:\n",
    "The Mode is the most frequently occurring value."
   ]
  },
  {
   "cell_type": "code",
   "execution_count": null,
   "id": "dd4b5150-4476-4de6-8fcf-94894f0159ab",
   "metadata": {},
   "outputs": [],
   "source": [
    "#Q2):-\n",
    "The difference between the mean, median, and mode are.\n",
    "  Mean is the average value of the given observations.\n",
    "  Median is the middle value of the given observations. \n",
    "  Mode is the most repeated value in the given observation.\n",
    "    \n",
    "The mean is the average where the sum of all the numbers is divided by the total number of numbers.\n",
    "\n",
    "whereas the median is the middle value in the list of given numbers numerically ordered from smallest to biggest\n",
    "\n",
    "The mode is the value of the number which occurs most often in the list."
   ]
  },
  {
   "cell_type": "code",
   "execution_count": 6,
   "id": "38383aba-1a61-4492-a503-e06426bc3119",
   "metadata": {},
   "outputs": [
    {
     "name": "stdout",
     "output_type": "stream",
     "text": [
      "a    177.01875\n",
      "dtype: float64\n",
      "a    177.0\n",
      "dtype: float64\n",
      "       a\n",
      "0  177.0\n",
      "1  178.0\n"
     ]
    }
   ],
   "source": [
    "#Q3):-\n",
    "import pandas as pd\n",
    "a=[178,177,176,177,178.2,178,175,179,180,175,178.9,176.2,177,172.5,178,176.5]\n",
    "df=pd.DataFrame({\"a\":a})\n",
    "print(df.mean())\n",
    "print(df.median())\n",
    "print(df.mode())"
   ]
  },
  {
   "cell_type": "code",
   "execution_count": 7,
   "id": "acf27e71-5489-45be-9d6a-fc3893276723",
   "metadata": {},
   "outputs": [
    {
     "name": "stdout",
     "output_type": "stream",
     "text": [
      "a    1.847239\n",
      "dtype: float64\n"
     ]
    }
   ],
   "source": [
    "#Q4):-\n",
    "import pandas as pd\n",
    "a=[178,177,176,177,178.2,178,175,179,180,175,178.9,176.2,177,172.5,178,176.5]\n",
    "df=pd.DataFrame({\"a\":a})\n",
    "print(df.std())"
   ]
  },
  {
   "cell_type": "code",
   "execution_count": null,
   "id": "18b07640-55a5-4f16-a791-24c3965de3cb",
   "metadata": {},
   "outputs": [],
   "source": [
    "#Q5):-\n",
    "Range:-\n",
    "Let’s start with the range because it is the most straightforward measure of variability to calculate and the simplest to understand. \n",
    "The range of a dataset is the difference between the largest and smallest values in that dataset. \n",
    "For example, in the two datasets below, dataset 1 has a range of 20 – 38 = 18 while dataset 2 has a range of 11 – 52 = 41.\n",
    "Dataset 2 has a broader range and, hence, more variability than dataset 1.\n",
    "\n",
    "Variance:-\n",
    "Variance is the average squared difference of the values from the mean. \n",
    "Unlike the previous measures of variability, the variance includes all values in the calculation by comparing each value to the mean. \n",
    "To calculate this statistic, you calculate a set of squared differences between the data points and the mean, sum them, and then divide by the number of observations.\n",
    "Hence, it’s the average squared difference.\n",
    "\n",
    "Standard Deviation:-\n",
    "The standard deviation is the standard or typical difference between each data point and the mean. \n",
    "When the values in a dataset are grouped closer together, you have a smaller standard deviation. \n",
    "On the other hand, when the values are spread out more, the standard deviation is larger because the standard distance is greater."
   ]
  },
  {
   "cell_type": "code",
   "execution_count": null,
   "id": "90937700-98ba-4a65-8b18-cc28a06e090d",
   "metadata": {},
   "outputs": [],
   "source": [
    "#Q6):-\n",
    "A Venn diagram uses overlapping circles or other shapes to illustrate the logical relationships between two or more sets of items. \n",
    "Often, they serve to graphically organize things, highlighting how the items are similar and different."
   ]
  },
  {
   "cell_type": "code",
   "execution_count": null,
   "id": "2355e7b7-0701-4d24-aed1-b350c989872b",
   "metadata": {},
   "outputs": [],
   "source": [
    "#Q7):-\n",
    "i):-{2,6}\n",
    "\n",
    "ii):-{0,2,3,4,5,6,7,8,10}"
   ]
  },
  {
   "cell_type": "code",
   "execution_count": null,
   "id": "32bc90dd-6b4f-45fd-9c00-aaa987c35b03",
   "metadata": {},
   "outputs": [],
   "source": [
    "#Q8):-\n",
    "The Skewness is a measurement of the distortion of symmetrical distribution or asymmetry in a data set. \n",
    "Skewness is demonstrated on a bell curve when data points are not distributed symmetrically to the left and right sides of the median on a bell curve.\n",
    "\n",
    "mean=median=mode"
   ]
  },
  {
   "cell_type": "code",
   "execution_count": null,
   "id": "474cedaf-cc1a-4076-9d99-800c68cf9d2f",
   "metadata": {},
   "outputs": [],
   "source": [
    "#Q9):-\n",
    "   mean>median>mode"
   ]
  },
  {
   "cell_type": "code",
   "execution_count": null,
   "id": "2c1b3e00-2fd5-4d27-af69-b27b906e87a9",
   "metadata": {},
   "outputs": [],
   "source": [
    "#Q10):-\n",
    "The Covariance is a measure of how two variables vary together, while variance is a measure of how a single variable varies.\n",
    "Correlation is a measure of the strength of the relationship between two variables."
   ]
  },
  {
   "cell_type": "code",
   "execution_count": null,
   "id": "74196e18-b97b-4104-809b-6dc0b598cdee",
   "metadata": {},
   "outputs": [],
   "source": [
    "#Q11):-\n",
    "The sample mean formula is.\n",
    " \n",
    "    x̄ = ( Σ xi ) / n\n",
    "    \n",
    "    For Example:-\n",
    "    {1,2,3,4,5}\n",
    "    \n",
    "    x̄=(1+2+3+4+5) / 5= 3"
   ]
  },
  {
   "cell_type": "code",
   "execution_count": null,
   "id": "6000f1c3-77f6-49c7-959f-a6358f90664e",
   "metadata": {},
   "outputs": [],
   "source": [
    "#Q12):-\n",
    "Any normal distribution has a graph that is perfectly symmetric about a vertical line through its peak. \n",
    "Therefore, all measures of central tendency (most commonly, the mean, median, and mode) give the same answer: the x -value of the peak."
   ]
  },
  {
   "cell_type": "code",
   "execution_count": null,
   "id": "ea0796af-1f30-4f6d-85a0-a982f0333cd8",
   "metadata": {},
   "outputs": [],
   "source": [
    "#Q13):-\n",
    "The Covariance and correlation are two terms that are opposed and are both used in statistics and regression analysis. \n",
    "Covariance shows you how the two variables differ, whereas correlation shows you how the two variables are related."
   ]
  },
  {
   "cell_type": "code",
   "execution_count": null,
   "id": "c8665dc0-8dfd-4576-8304-27b787822784",
   "metadata": {},
   "outputs": [],
   "source": [
    "#Q14):-\n",
    "When a outlier is present it can effect the shape of the graph, if we have outliers to the right of the graph.\n",
    "These outliers are causing the mean to increase, but if we have outliers to the left of the graph these outliers are dragging down the mean. \n",
    "This causes a conflict because the mean no longer provides a good representation of the data, alternatively we would much rather use the median. \n",
    "The median on the other hand is less likely to be affect by outliers."
   ]
  }
 ],
 "metadata": {
  "kernelspec": {
   "display_name": "Python 3 (ipykernel)",
   "language": "python",
   "name": "python3"
  },
  "language_info": {
   "codemirror_mode": {
    "name": "ipython",
    "version": 3
   },
   "file_extension": ".py",
   "mimetype": "text/x-python",
   "name": "python",
   "nbconvert_exporter": "python",
   "pygments_lexer": "ipython3",
   "version": "3.10.8"
  }
 },
 "nbformat": 4,
 "nbformat_minor": 5
}
